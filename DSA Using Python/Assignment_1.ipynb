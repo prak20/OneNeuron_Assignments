{
  "nbformat": 4,
  "nbformat_minor": 0,
  "metadata": {
    "colab": {
      "name": "Assignment 1",
      "provenance": [],
      "collapsed_sections": []
    },
    "kernelspec": {
      "name": "python3",
      "display_name": "Python 3"
    },
    "language_info": {
      "name": "python"
    }
  },
  "cells": [
    {
      "cell_type": "markdown",
      "source": [
        "\n",
        "**DSA using Python - Recurrence Assignment**\n",
        "\n",
        "\n"
      ],
      "metadata": {
        "id": "K5C0yseYpX01"
      }
    },
    {
      "cell_type": "markdown",
      "source": [
        "1. What is the distinction between a list and an array?\n",
        "2. What are the qualities of a binary tree?\n",
        "3. What is the best way to combine two balanced binary search trees?\n",
        "4. How would you describe Heap in detail?\n",
        "5. In terms of data structure, what is a HashMap?\n",
        "6. How do you explain the complexities of time and space?\n",
        "7. How do you recursively sort a stack?"
      ],
      "metadata": {
        "id": "IpoZa_tto__v"
      }
    },
    {
      "cell_type": "markdown",
      "source": [
        "## `Ans 1`"
      ],
      "metadata": {
        "id": "V2Tn5ogcpiwK"
      }
    },
    {
      "cell_type": "markdown",
      "source": [
        "Difference :-\n",
        "1. A List can contain  homogenous or heterogenous elements i.e. elements of same or different data types, whereas an array contains only homogenous data.\n",
        "2. List cannot handle arithmetic operations directly but we can apply a specific operation to an individual element whereas Arrays can handle arithmetic operations.\n",
        "3. Python list is resizeable as, during list initialization, Python initializes some extra elements whereas Arrays have a constant size that can not be altered.\n",
        "4. Python Lists are preferred for storing a small amount of data whereas arrays are preferred for storing a large amount of data.\n",
        "5. Since a list store each element individually, it is easier to add and delete an element than an array does. So it is easier to modify a list as compared to arrays in Python."
      ],
      "metadata": {
        "id": "AQWjg9Fmraqa"
      }
    },
    {
      "cell_type": "markdown",
      "source": [
        "## `Ans 2`"
      ],
      "metadata": {
        "id": "Efzt74n_uiNA"
      }
    },
    {
      "cell_type": "markdown",
      "source": [
        "1. Each node can have atmost two children.\n",
        "2. For each node, the values of its left descendent nodes are less than that of the current node, which in turn is less than the right descendent nodes.\n",
        "3. In Binary tree where every node has 0 or 2 children, the number of leaf nodes is always one more than nodes with two children.\n",
        "\n",
        "  No. of Leaf Nodes = No. of Internal Nodes + 1\n",
        "\n",
        "  That is ->  `L = T + 1`\n",
        "      \n",
        "4. Binary tree is a type of heirarchial data structure.\n",
        "5. In Binary Trees, nodes are linked using pointers.\n",
        "6. The node which is present at the topmost level of the tree is known as root node, which has either 0 or 2 children. Root node has no parent.\n",
        "7. Maximum number of nodes in a binary tree of height ‘h’ is \n",
        "`2h – 1.`"
      ],
      "metadata": {
        "id": "yYVFscQjuki3"
      }
    },
    {
      "cell_type": "markdown",
      "source": [
        "## `Ans 3`"
      ],
      "metadata": {
        "id": "DLIzR0uR0FkO"
      }
    },
    {
      "cell_type": "markdown",
      "source": [
        "The best and simple way to merge two balanced BST ( B1 and B2 ) is as follows :\n",
        "\n",
        "**1. Firstly, we will perform inorder traversal of both BST's individually to get two individual sorted arrays A1 and A2.**\n",
        "\n",
        "Algorithm Inorder -\n",
        "   1. Traverse the left subtree, i.e., call Inorder(left-subtree)\n",
        "\n",
        "   2. Visit the root.\n",
        "   \n",
        "   3. Traverse the right subtree, i.e., call Inorder(right-subtree)\n",
        "\n",
        "**2. Then we will perform merge sort algorithm to merge A1 and A2 and get a sorted array A3.**\n",
        "\n",
        "Algorithm -\n",
        "  1. Declare new array A3\n",
        "\n",
        "  2. Repeat step 3 and 4 till end of A1 or end of A2\n",
        "\n",
        "  3. if the instance value of A1 less than the value of A2 then insert the value of A1, move the pointer to the next element in A1\n",
        "\n",
        "  4. Else insert the value of A2 , move the pointer to the next element\n",
        "\n",
        "  5. Insert all remaining values of A1 or A2\n",
        "\n",
        "**3. Finally, we will convert the array A3 to balanced BST.**\n",
        "\n",
        "Algorithm -\n",
        "  1. Get the Middle of the array A3 and make it root.\n",
        "  2. Recursively do same for left half and right half.\n",
        "\n",
        "      a) Get the middle of left half and make it left child of the root created in step 1.\n",
        "\n",
        "      b) Get the middle of right half and make it right child of the root created in step 1."
      ],
      "metadata": {
        "id": "mL3LfAFu0LeX"
      }
    },
    {
      "cell_type": "markdown",
      "source": [
        "## `Ans 4`"
      ],
      "metadata": {
        "id": "BKgxkK7g0t8J"
      }
    },
    {
      "cell_type": "markdown",
      "source": [
        "A heap is a tree-based data structure that follows a specific property \n",
        "known as heap property.\n",
        "\n",
        "Heap Property is based on following two statements -\n",
        "\n",
        "  1. Any given node is always greater than its child nodes and the key of the root node is the largest among all other nodes. This property is also called **MAX HEAP**. \n",
        "\n",
        "  Mathematically, `A[Parent(i)] >= A[i]`\n",
        "  2. Any given node is always smaller than its child nodes and the key of the root node is the smallest among all other nodes. This property is also called **MIN HEAP**.\n",
        "\n",
        "  Mathematically, `A[Parent(i)] <= A[i]`\n",
        "\n",
        "A heap is said to be a complete binary tree structure. In a complete binary tree, all levels are full except the last level, i.e., nodes in all levels except the last level will have two children. The last level will be filled from the left. \n",
        "\n",
        "**APPLICATIONS OF HEAP :**\n",
        "1. Heaps are used to efficiently implement a priority queue, an important data structure in computer science. One of the applications of priority queues is in process scheduling in operating systems.\n",
        "\n",
        "2. Heaps are used by the Heapsort Algorithm, which is one of the fastest sorting algorithms known. Its complexity is O(nlogn).\n",
        "\n"
      ],
      "metadata": {
        "id": "GPMWH17d1CQO"
      }
    },
    {
      "cell_type": "markdown",
      "source": [
        "## `Ans 5`"
      ],
      "metadata": {
        "id": "7aaTIbIU1CQO"
      }
    },
    {
      "cell_type": "markdown",
      "source": [
        "In computer science, a Hashmap supports one of the most efficient type of searching which is 'hashing'.\n",
        "\n",
        "A Hashmap also known as hashtable consists of an array in which data is accessed via a special index called a key. \n",
        "\n",
        "The primary aim behind a hash table is to establish a mapping between the set of all possible keys and positions in the array using a hash function.\n",
        "\n",
        "A hash function accepts a key and return its hash coding or hash value. Hash function is the core of implementing a hash map.\n",
        "\n",
        "In Python, hash maps are implemented using dictionaries. \n",
        "\n",
        "Eg :  `d1 = {'name':\"Abcd\",'number':23}`\n",
        "\n",
        "**APPLICATIONS -**\n",
        "\n",
        "1. In database Systems\n",
        "2. In phonebook directories\n",
        "3. In Symbol Tables"
      ],
      "metadata": {
        "id": "8r_c5icM1D8k"
      }
    },
    {
      "cell_type": "markdown",
      "source": [
        "## `Ans 6`"
      ],
      "metadata": {
        "id": "FKYQrGWl1D8l"
      }
    },
    {
      "cell_type": "markdown",
      "source": [
        "**TIME COMPLEXITY -**\n",
        "\n",
        "1. Time complexity is the computational complexity describing the amount of time required for the execution of an algorithm.\n",
        "2. Hence, it highly depends on the size of processed data.\n",
        "3. It is not going to examine the total execution time of an algorithm. Rather, it is going to give information about the variation (increase or decrease) in execution time when the number of operations increase or decrease in an algorithm.\n",
        "4. There are different types of time complexities used. For eg : Constant time – O (1), Linear time – O (n), Logarithmic time – O (log n) etc.\n",
        "\n",
        "**SPACE COMPLEXITY -**\n",
        "\n",
        "1. Space complexity represents the amount of memory one program uses in order to achieve its execution.\n",
        "2. Space complexity includes both Auxiliary space and space used by input. \n",
        "3. Similar to time complexity, there are different types of space complexity, depending on the memory consumed by each algorithm.\n",
        "4. An example of an algorithm with a constant space complexity is selection sort since it operates on the same array without any other memory space.\n",
        "5. Merge sort is an example of an algorithm with linear space complexity. "
      ],
      "metadata": {
        "id": "dGVhpBtY1EUA"
      }
    },
    {
      "cell_type": "markdown",
      "source": [
        "## `Ans 7`"
      ],
      "metadata": {
        "id": "zWZrSZIL1EUA"
      }
    },
    {
      "cell_type": "markdown",
      "source": [
        "The idea is :\n",
        "\n",
        "Recursively remove values from the stack until the stack becomes empty and then insert those values (from the call stack) back into the stack in a sorted position."
      ],
      "metadata": {
        "id": "2lB9OVHW1GYf"
      }
    },
    {
      "cell_type": "code",
      "source": [
        "from collections import deque"
      ],
      "metadata": {
        "id": "giDKujZHhEJR"
      },
      "execution_count": null,
      "outputs": []
    },
    {
      "cell_type": "code",
      "source": [
        "l = list(map(int,input().split(',')))"
      ],
      "metadata": {
        "colab": {
          "base_uri": "https://localhost:8080/"
        },
        "id": "QPth_vBPjlSS",
        "outputId": "7e763ed1-67dd-4162-dc5a-324f65bcda6a"
      },
      "execution_count": null,
      "outputs": [
        {
          "name": "stdout",
          "output_type": "stream",
          "text": [
            "5, -2, 9, -7, 3\n"
          ]
        }
      ]
    },
    {
      "cell_type": "code",
      "source": [
        "s1 = deque(l)"
      ],
      "metadata": {
        "id": "mFLVrngNjhpk"
      },
      "execution_count": null,
      "outputs": []
    },
    {
      "cell_type": "code",
      "source": [
        "# We convert deque s1 to list using list()\n",
        "print('Before sorting:', list(s1))"
      ],
      "metadata": {
        "colab": {
          "base_uri": "https://localhost:8080/"
        },
        "id": "gUW4OmEMkRM2",
        "outputId": "14f48820-d311-4f11-f6a7-707833e6b828"
      },
      "execution_count": null,
      "outputs": [
        {
          "output_type": "stream",
          "name": "stdout",
          "text": [
            "Before sorting: [5, -2, 9, -7, 3]\n"
          ]
        }
      ]
    },
    {
      "cell_type": "code",
      "source": [
        "def appendVal(st, key):\n",
        "    if not st or key > st[-1]:\n",
        "        st.append(key)\n",
        "        return\n",
        "    top = st.pop()\n",
        "    appendVal(st, key)\n",
        "    st.append(top)\n",
        " \n",
        "def getSort(st):\n",
        "    if not st:\n",
        "        return\n",
        "    top = st.pop()\n",
        "    getSort(st)\n",
        "    appendVal(st, top)"
      ],
      "metadata": {
        "id": "PinebyXWg5fT"
      },
      "execution_count": null,
      "outputs": []
    },
    {
      "cell_type": "code",
      "source": [
        "getSort(s1)\n",
        "# We convert deque s1 to list using list()\n",
        "print('After sorting:', list(s1))\n"
      ],
      "metadata": {
        "colab": {
          "base_uri": "https://localhost:8080/"
        },
        "id": "4prOWeAvjrHU",
        "outputId": "b2442c2b-f966-4a18-b1f3-e066e919af14"
      },
      "execution_count": null,
      "outputs": [
        {
          "output_type": "stream",
          "name": "stdout",
          "text": [
            "After sorting: [-7, -2, 3, 5, 9]\n"
          ]
        }
      ]
    },
    {
      "cell_type": "code",
      "source": [
        ""
      ],
      "metadata": {
        "id": "0-uJ3MQMjz0L"
      },
      "execution_count": null,
      "outputs": []
    }
  ]
}