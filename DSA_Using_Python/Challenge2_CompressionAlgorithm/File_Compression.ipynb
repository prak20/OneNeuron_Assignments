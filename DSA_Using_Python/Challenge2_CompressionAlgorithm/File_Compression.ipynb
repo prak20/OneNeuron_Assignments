{
 "cells": [
  {
   "cell_type": "markdown",
   "id": "88616287",
   "metadata": {},
   "source": [
    "Installing required packages if not installed."
   ]
  },
  {
   "cell_type": "code",
   "execution_count": 3,
   "id": "b0fc7060",
   "metadata": {},
   "outputs": [
    {
     "name": "stdout",
     "output_type": "stream",
     "text": [
      "Requirement already satisfied: ffmpeg-python in c:\\users\\dell\\appdata\\local\\programs\\python\\python39\\lib\\site-packages (0.2.0)"
     ]
    },
    {
     "name": "stderr",
     "output_type": "stream",
     "text": [
      "WARNING: You are using pip version 22.0.3; however, version 22.0.4 is available.\n",
      "You should consider upgrading via the 'c:\\users\\dell\\appdata\\local\\programs\\python\\python39\\python.exe -m pip install --upgrade pip' command.\n"
     ]
    },
    {
     "name": "stdout",
     "output_type": "stream",
     "text": [
      "\n",
      "Requirement already satisfied: future in c:\\users\\dell\\appdata\\local\\programs\\python\\python39\\lib\\site-packages (from ffmpeg-python) (0.18.2)\n",
      "Requirement already satisfied: Pillow in c:\\users\\dell\\appdata\\local\\programs\\python\\python39\\lib\\site-packages (9.0.1)"
     ]
    },
    {
     "name": "stderr",
     "output_type": "stream",
     "text": [
      "WARNING: You are using pip version 22.0.3; however, version 22.0.4 is available.\n",
      "You should consider upgrading via the 'c:\\users\\dell\\appdata\\local\\programs\\python\\python39\\python.exe -m pip install --upgrade pip' command.\n"
     ]
    },
    {
     "name": "stdout",
     "output_type": "stream",
     "text": [
      "\n"
     ]
    }
   ],
   "source": [
    "!pip install ffmpeg-python\n",
    "!pip install Pillow"
   ]
  },
  {
   "cell_type": "markdown",
   "id": "f79d0345",
   "metadata": {},
   "source": [
    "Importing required Libraries"
   ]
  },
  {
   "cell_type": "code",
   "execution_count": 18,
   "id": "7cc14805",
   "metadata": {},
   "outputs": [],
   "source": [
    "from PIL import Image\n",
    "import PIL\n",
    "import os\n",
    "import subprocess\n",
    "import zlib,base64"
   ]
  },
  {
   "cell_type": "markdown",
   "id": "aa0a0715",
   "metadata": {},
   "source": [
    "Defining All Methods"
   ]
  },
  {
   "cell_type": "code",
   "execution_count": 19,
   "id": "a59823c8",
   "metadata": {},
   "outputs": [],
   "source": [
    "\n",
    "def compressImage(file_name):\n",
    "    picture = Image.open(file_name)\n",
    "    picture.save(\"Compressed_\"+file_name,optimize=True,quality=50) \n",
    "\n",
    "def compressVideo(file_name):  \n",
    "    directory = os.getcwd()\n",
    "    crf = 30\n",
    "    for subdir, dir, files in os.walk(directory):\n",
    "        for file in files:\n",
    "            if file == file_name:\n",
    "                extention = os.path.splitext(file)[-1].lower()\n",
    "                if extention == \".mov\":\n",
    "                    inp=subdir+ \"/\"+ file\n",
    "                    out = subdir +\"/Compressed_\"+ file\n",
    "                    subprocess.run(f'ffmpeg -i \"{inp}\" -vcodec libx264 -crf {crf} \"{out}\"', shell=True)\n",
    "                elif extention == \".mp4\":\n",
    "                    inp=subdir+ \"/\"+ file\n",
    "                    out = subdir +\"/Compressed_\"+ file\n",
    "                    subprocess.run(f'ffmpeg -i \"{inp}\" -vcodec libx264 -crf {crf} \"{out}\"', shell=True)\n",
    "                elif extention == \".mkv\":\n",
    "                    inp=subdir+ \"/\"+ file\n",
    "                    out = subdir +\"/Compressed_\"+ file\n",
    "                    subprocess.run(f'ffmpeg -i \"{inp}\" -vcodec libx264 -crf {crf} \"{out}\"', shell=True)\n",
    "\n",
    "def compressText(file_name):\n",
    "    f1=open(file_name,'r')\n",
    "    txt=f1.read()\n",
    "    f1.close()\n",
    "    code=base64.b64encode(zlib.compress(txt.encode('utf-8'),9))\n",
    "    code=code.decode('utf-8')\n",
    "    decoded_txt = zlib.decompress(base64.b64decode(code))\n",
    "    decoded_txt = decoded_txt.decode()\n",
    "    f2=open('Compressed_'+file_name,'w')\n",
    "    f2.write(decoded_txt)\n",
    "    f2.close()\n",
    "\n",
    "  "
   ]
  },
  {
   "cell_type": "markdown",
   "id": "3f03e21a",
   "metadata": {},
   "source": [
    "Main Code to compress a file ( Image or Video File )"
   ]
  },
  {
   "cell_type": "code",
   "execution_count": 20,
   "id": "b0d26947",
   "metadata": {},
   "outputs": [
    {
     "name": "stdout",
     "output_type": "stream",
     "text": [
      "Please choose which type of file you want to compress (1 or 2):- \n",
      "1. An Image File ( .jpeg, .bmp, .jpg, .png ) \n",
      "2. A Video File ( .mp4, .mkv, .mov ) \n",
      "2\n",
      "Enter file name ( with extensions ) :- sampleVideo.mp4\n",
      "Video File is Compressed !\n"
     ]
    }
   ],
   "source": [
    "print(\"Please choose which type of file you want to compress (1 or 2):- \")\n",
    "print(\"1. An Image File ( .jpeg, .bmp, .jpg, .png ) \")\n",
    "print(\"2. A Video File ( .mp4, .mkv, .mov ) \")\n",
    "\n",
    "ch=int(input())\n",
    "\n",
    "if(ch==1):\n",
    "    file_name=input(\"Enter file name ( with extensions ) :- \")\n",
    "    compressImage(file_name)\n",
    "    print(\"Image File is Compressed !\")\n",
    "elif(ch==2):\n",
    "    file_name=input(\"Enter file name ( with extensions ) :- \")\n",
    "    compressVideo(file_name)\n",
    "    print(\"Video File is Compressed !\")\n",
    "else:\n",
    "    print(\"Wrong Choice !!!\")"
   ]
  },
  {
   "cell_type": "code",
   "execution_count": null,
   "id": "d91d981c",
   "metadata": {},
   "outputs": [],
   "source": []
  }
 ],
 "metadata": {
  "kernelspec": {
   "display_name": "Python 3 (ipykernel)",
   "language": "python",
   "name": "python3"
  },
  "language_info": {
   "codemirror_mode": {
    "name": "ipython",
    "version": 3
   },
   "file_extension": ".py",
   "mimetype": "text/x-python",
   "name": "python",
   "nbconvert_exporter": "python",
   "pygments_lexer": "ipython3",
   "version": "3.9.0"
  }
 },
 "nbformat": 4,
 "nbformat_minor": 5
}
