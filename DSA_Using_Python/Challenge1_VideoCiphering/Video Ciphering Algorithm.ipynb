{
 "cells": [
  {
   "cell_type": "markdown",
   "id": "c3dbe9a0",
   "metadata": {},
   "source": [
    "Installing required package"
   ]
  },
  {
   "cell_type": "code",
   "execution_count": 1,
   "id": "5168b7a3",
   "metadata": {},
   "outputs": [
    {
     "name": "stdout",
     "output_type": "stream",
     "text": [
      "Requirement already satisfied: cryptography in c:\\users\\dell\\appdata\\local\\programs\\python\\python39\\lib\\site-packages (36.0.1)\n",
      "Requirement already satisfied: cffi>=1.12 in c:\\users\\dell\\appdata\\local\\programs\\python\\python39\\lib\\site-packages (from cryptography) (1.15.0)\n",
      "Requirement already satisfied: pycparser in c:\\users\\dell\\appdata\\local\\programs\\python\\python39\\lib\\site-packages (from cffi>=1.12->cryptography) (2.21)\n",
      "Note: you may need to restart the kernel to use updated packages.\n"
     ]
    }
   ],
   "source": [
    "pip install cryptography"
   ]
  },
  {
   "cell_type": "markdown",
   "id": "3c623d6b",
   "metadata": {},
   "source": [
    "Importing required Libraries"
   ]
  },
  {
   "cell_type": "code",
   "execution_count": 14,
   "id": "8fa7c7b0",
   "metadata": {},
   "outputs": [],
   "source": [
    "from cryptography.fernet import Fernet"
   ]
  },
  {
   "cell_type": "markdown",
   "id": "157b9cba",
   "metadata": {},
   "source": [
    "Creating class to define all methods "
   ]
  },
  {
   "cell_type": "code",
   "execution_count": 15,
   "id": "0f98d706",
   "metadata": {},
   "outputs": [],
   "source": [
    "class File_Encryption():\n",
    "\n",
    "    def key_create(self):\n",
    "        key = Fernet.generate_key()\n",
    "        return key\n",
    "\n",
    "    def key_write(self, key, key_name):\n",
    "        with open(key_name, 'wb') as mykey:\n",
    "            mykey.write(key)\n",
    "            \n",
    "    def key_load(self, key_name):\n",
    "        with open(key_name, 'rb') as mykey:\n",
    "            key = mykey.read()\n",
    "        return key\n",
    "\n",
    "    def file_encrypt(self, key, original_file, encrypted_file):\n",
    "        f = Fernet(key)\n",
    "        with open(original_file, 'rb') as file:\n",
    "            original = file.read()\n",
    "        encrypted = f.encrypt(original)\n",
    "        with open (encrypted_file, 'wb') as file:\n",
    "            file.write(encrypted)\n",
    "\n",
    "    def file_decrypt(self, key, encrypted_file, decrypted_file):\n",
    "        f = Fernet(key)\n",
    "        with open(encrypted_file, 'rb') as file:\n",
    "            encrypted = file.read()\n",
    "        decrypted = f.decrypt(encrypted)\n",
    "        with open(decrypted_file, 'wb') as file:\n",
    "            file.write(decrypted)"
   ]
  },
  {
   "cell_type": "markdown",
   "id": "fa8db0ef",
   "metadata": {},
   "source": [
    "Encrypt the file by running below commands\n"
   ]
  },
  {
   "cell_type": "code",
   "execution_count": 17,
   "id": "dc058658",
   "metadata": {},
   "outputs": [
    {
     "name": "stdout",
     "output_type": "stream",
     "text": [
      "Enter name of file you want to encrypt :sample\n",
      "Enter the extension : ( For eg :- .mp4, .csv, .txt, .png etc ).mp4\n",
      "You want to create new File after encryption or not ( y or n ) : y\n",
      "Enter the name of new File :file_enc\n",
      "File Encrypted !\n"
     ]
    }
   ],
   "source": [
    "fName = input(\"Enter name of file you want to encrypt :\")\n",
    "ext = input(\"Enter the extension : ( For eg :- .mp4, .csv, .txt, .png etc )\")\n",
    "ch = input(\"You want to create new File after encryption or not ( y or n ) : \")\n",
    "file_Name = fName+ext\n",
    "\n",
    "if(ch=='y'):\n",
    "    new_File=input(\"Enter the name of new File :\")\n",
    "    new_Fname = new_File+ext\n",
    "elif(ch=='n'):\n",
    "    new_Fname = file_Name\n",
    "\n",
    "encr=File_Encryption()\n",
    "mykey=encr.key_create()\n",
    "encr.key_write(mykey, 'secret.key')\n",
    "loaded_key=encr.key_load('secret.key')\n",
    "encr.file_encrypt(loaded_key, file_Name, new_Fname)\n",
    "print(\"File Encrypted !\")\n",
    "\n",
    "\n",
    "    "
   ]
  },
  {
   "cell_type": "markdown",
   "id": "fb05a230",
   "metadata": {},
   "source": [
    "Decrypt the file by running below commands\n"
   ]
  },
  {
   "cell_type": "code",
   "execution_count": 18,
   "id": "f7a38c83",
   "metadata": {},
   "outputs": [
    {
     "name": "stdout",
     "output_type": "stream",
     "text": [
      "Enter name of file you want to decrypt :file_enc\n",
      "Enter the extension : ( For eg :- .mp4, .csv, .txt, .png etc ).mp4\n",
      "You want to create new File after decryption or not ( y or n ) : y\n",
      "Enter the name of new File :file_dec\n",
      "File Decrypted !\n"
     ]
    }
   ],
   "source": [
    "# If the secret key is not present or filename is incorrect, then Exception will occur\n",
    "\n",
    "try:\n",
    "    fName = input(\"Enter name of file you want to decrypt :\")\n",
    "    ext = input(\"Enter the extension : ( For eg :- .mp4, .csv, .txt, .png etc )\")\n",
    "    ch = input(\"You want to create new File after decryption or not ( y or n ) : \")\n",
    "    file_Name = fName+ext\n",
    "    if(ch=='y'):\n",
    "        new_File=input(\"Enter the name of new File :\")\n",
    "        new_Fname = new_File+ext\n",
    "    elif(ch=='n'):\n",
    "        new_Fname = file_Name\n",
    "\n",
    "    decr=File_Encryption()\n",
    "    loaded_key=decr.key_load('secret.key')\n",
    "    decr.file_decrypt(loaded_key, file_Name, new_Fname)\n",
    "    print(\"File Decrypted !\")\n",
    "    \n",
    "except Exception as e:\n",
    "    print(\"Error Occured :\",e)"
   ]
  },
  {
   "cell_type": "code",
   "execution_count": null,
   "id": "6c7cca67",
   "metadata": {},
   "outputs": [],
   "source": []
  }
 ],
 "metadata": {
  "kernelspec": {
   "display_name": "Python 3 (ipykernel)",
   "language": "python",
   "name": "python3"
  },
  "language_info": {
   "codemirror_mode": {
    "name": "ipython",
    "version": 3
   },
   "file_extension": ".py",
   "mimetype": "text/x-python",
   "name": "python",
   "nbconvert_exporter": "python",
   "pygments_lexer": "ipython3",
   "version": "3.9.0"
  }
 },
 "nbformat": 4,
 "nbformat_minor": 5
}
