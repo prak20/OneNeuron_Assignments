{
  "nbformat": 4,
  "nbformat_minor": 0,
  "metadata": {
    "colab": {
      "name": "Assignment 6",
      "provenance": [],
      "collapsed_sections": []
    },
    "kernelspec": {
      "name": "python3",
      "display_name": "Python 3"
    },
    "language_info": {
      "name": "python"
    }
  },
  "cells": [
    {
      "cell_type": "markdown",
      "source": [
        "**DSA using Python - HEAP DATA STRUCTURE (1st Assignment)**\n"
      ],
      "metadata": {
        "id": "K5C0yseYpX01"
      }
    },
    {
      "cell_type": "markdown",
      "source": [
        "1. Describe Python's built-in data structure?\n",
        "2. Describe the Python user data structure?\n",
        "3. Describe the stages involved in writing an algorithm?\n",
        "4. Outline the components of a good algorithm?\n",
        "5. Describe the Tree traversal method?\n",
        "6. Explain the difference between inorder and postorder tree traversal?"
      ],
      "metadata": {
        "id": "IpoZa_tto__v"
      }
    },
    {
      "cell_type": "markdown",
      "source": [
        "## `Ans 1`"
      ],
      "metadata": {
        "id": "V2Tn5ogcpiwK"
      }
    },
    {
      "cell_type": "markdown",
      "source": [
        "The basic Python data structures in Python include list, set, tuples, and dictionary.\n",
        "\n",
        "**1. List**\n",
        "\n",
        "A list is a data structure that holds an ordered collection of items i.e. you can store a sequence of items in a list.\n",
        "\n",
        "Python list is mutable which means it can be modified after its creation. \n",
        "\n",
        "The items of lists are enclosed within the square bracket [] and separated by the comma.\n",
        "\n",
        "\n",
        "**2. Tuple**\n",
        "\n",
        "Python Tuple is used to store the sequence of immutable Python objects. \n",
        "\n",
        "The tuple is similar to lists but it is different in the way that the value of the items stored in the list can be changed, whereas the tuple is immutable i.e. the value of the items stored in the tuple cannot be changed.\n",
        "\n",
        "**3. Dictionary**\n",
        "\n",
        "A dictionary is an unordered collection of data values used to store data values like a map. \n",
        "\n",
        "Unlike other data types that hold only a single value as an element, Dictionary holds a key value pair.\n",
        "\n",
        "**4. Sets**\n",
        "\n",
        "A set is a collection that is unordered and unindexed. \n",
        "\n",
        "Sets are written with curly brackets in Python. \n",
        "\n",
        "Sets do not contain repetitive elements i.e. duplication of elements is removed from the sets."
      ],
      "metadata": {
        "id": "ABxbJN08-mLk"
      }
    },
    {
      "cell_type": "markdown",
      "source": [
        "## `Ans 2`"
      ],
      "metadata": {
        "id": "NZkZYXYfisf_"
      }
    },
    {
      "cell_type": "markdown",
      "source": [
        "Python supports many user-defined data structures i.e. the user can create their own data structures, like Stack, Queue, Tree, Linked List, Graph, and Hash Map.\n",
        "\n",
        "**Stack**\n",
        "\n",
        "Stacks are linear Data Structures which are based on the principle of Last-In-First-Out (LIFO) where data which is entered last will be the first to get accessed.\n",
        "\n",
        "**Queue**\n",
        "\n",
        "A queue is also a linear data structure which is based on the principle of First-In-First-Out (FIFO) where the data entered first will be accessed first.\n",
        "\n",
        "**Linked List**\n",
        "\n",
        "Linked lists are linear Data Structures which are not stored consequently but are linked with each other using pointers. The node of a linked list is composed of data and a pointer called next.\n",
        "\n",
        "**Tree**\n",
        "\n",
        "A tree is a non-linear data structure consisting of roots and nodes. The topmost base node is the root, and the elements present at the end of the tree are leaves. \n",
        "\n",
        "**Graph**\n",
        "\n",
        "A graph is a non-linear data structure consisting of nodes and edges. Nodes are known as vertices, and the lines connecting two nodes are generally called nodes.\n",
        "\n",
        "**HashMap**\n",
        "\n",
        "Hash Maps are indexed data structures and perform the same function as that performed by dictionary in Python. A hash map uses a hash function to compute index-key values into arrays. "
      ],
      "metadata": {
        "id": "mC3crI9LAkRA"
      }
    },
    {
      "cell_type": "markdown",
      "source": [
        "## `Ans 3`"
      ],
      "metadata": {
        "id": "bPZVaCivitpc"
      }
    },
    {
      "cell_type": "markdown",
      "source": [
        "**Algorithm**\n",
        "\n",
        "Algorithm is a step-by-step set of instructions designed to perform a specific task.\n",
        "\n",
        "**Steps involved are:**\n",
        "\n",
        "1. Obtain detailed information on the problem.\n",
        "2. Analyze the problem.\n",
        "3. Think of a problem solving approach.\n",
        "4. Review the problem solving approach and try to think of a better Alternative.\n",
        "5. Develop a basic structure of the Algorithm.\n",
        "6. Optimize, Improvise and refine.\n",
        "7. Review the algorithm."
      ],
      "metadata": {
        "id": "x8VvsuoZCqD4"
      }
    },
    {
      "cell_type": "markdown",
      "source": [
        "## `Ans 4`"
      ],
      "metadata": {
        "id": "l_PHTGZMit05"
      }
    },
    {
      "cell_type": "markdown",
      "source": [
        "**The key components / characteristics of a good Algorithm are :**\n",
        "\n",
        "1. Input - An algorithm should have 0 or more well defined inputs.\n",
        "2. Output - An algorithm should have 1 or more well defined outputs, and should match the desired output.\n",
        "3. Finiteness - Algorithms must terminate after a finite number of steps.\n",
        "4. Definiteness - Each step of algorithm must be defined unambiguously.\n",
        "5. Well-Ordered - The exact order of operations performed in an algorithm should be concretely defined.\n",
        "6. Independent - An algorithm should have step-by-step directions, which should be independent of any programming code.\n"
      ],
      "metadata": {
        "id": "SMmX3QxzDVAS"
      }
    },
    {
      "cell_type": "markdown",
      "source": [
        "## `Ans 5`"
      ],
      "metadata": {
        "id": "bLFSnkSniuEd"
      }
    },
    {
      "cell_type": "markdown",
      "source": [
        " Tree traversal involves traversing each node of the tree at least once where the information in the form of key and value can be retrieved for easy identification. \n",
        "\n",
        "The following are the three different ways of traversal:\n",
        "\n",
        "**Inorder traversal**\n",
        "\n",
        "An inorder traversal is a traversal technique that follows the policy, i.e., Left Root Right. \n",
        "\n",
        "Here, the left subtree of the root node is traversed first, then the root node, and then the right subtree of the root node is traversed.\n",
        "\n",
        "**Preorder traversal**\n",
        "\n",
        "A preorder traversal is a traversal technique that follows the policy, i.e., Root Left Right.\n",
        "\n",
        "In this method it is the root node which is visited first and then the left sub-tree is traversed and finally at the end the right sub-tree.\n",
        "\n",
        "**Postorder traversal**\n",
        "\n",
        "A Postorder traversal is a traversal technique that follows the policy, i.e., Left Right Root.\n",
        "\n",
        "In this method it is the left side is visited first and then the right-side sub-tree is traversed and finally at the node."
      ],
      "metadata": {
        "id": "TkxJlQzyFhJj"
      }
    },
    {
      "cell_type": "markdown",
      "source": [
        "![image.png](data:image/png;base64,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)"
      ],
      "metadata": {
        "id": "KybyXcEMGgrh"
      }
    },
    {
      "cell_type": "markdown",
      "source": [
        "For Above mentioned figure, the traversals are -\n",
        "\n",
        "(a) Inorder (Left, Root, Right) : 4 2 5 1 3 \n",
        "\n",
        "(b) Preorder (Root, Left, Right) : 1 2 4 5 3 \n",
        "\n",
        "(c) Postorder (Left, Right, Root) : 4 5 2 3 1"
      ],
      "metadata": {
        "id": "1cyiAsitGi05"
      }
    },
    {
      "cell_type": "markdown",
      "source": [
        "## `Ans 6`"
      ],
      "metadata": {
        "id": "dZtGQXmGiuSp"
      }
    },
    {
      "cell_type": "markdown",
      "source": [
        "INORDER TRAVERSAL -\n",
        "\n",
        "An inorder traversal is a traversal technique that follows the policy, i.e., Left -> Root -> Right.\n",
        "\n",
        "Here, the left subtree of the root node is traversed first, then the root node, and then the right subtree of the root node is traversed.\n",
        "\n",
        "\n",
        "POSTORDER TRAVERSAL -\n",
        "\n",
        "A Postorder traversal is a traversal technique that follows the policy, i.e., Left -> Right -> Root.\n",
        "\n",
        "Here, the left subtree of the root node is traversed first, then the right-side sub-tree, and then finally the node is traversed."
      ],
      "metadata": {
        "id": "oE_s13r2HK1y"
      }
    }
  ]
}