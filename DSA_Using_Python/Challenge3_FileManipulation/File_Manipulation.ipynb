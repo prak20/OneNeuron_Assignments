{
 "cells": [
  {
   "cell_type": "markdown",
   "id": "86a4cc6a",
   "metadata": {},
   "source": [
    "### Importing required Libraries"
   ]
  },
  {
   "cell_type": "code",
   "execution_count": 3,
   "id": "59e10f62",
   "metadata": {},
   "outputs": [],
   "source": [
    "import os\n",
    "import shutil"
   ]
  },
  {
   "cell_type": "code",
   "execution_count": 4,
   "id": "db9a6dbd",
   "metadata": {},
   "outputs": [],
   "source": [
    "import sys"
   ]
  },
  {
   "cell_type": "code",
   "execution_count": 5,
   "id": "4394467d",
   "metadata": {},
   "outputs": [],
   "source": [
    "import glob"
   ]
  },
  {
   "cell_type": "markdown",
   "id": "e6ea0d40",
   "metadata": {},
   "source": [
    "### Checking for current directory"
   ]
  },
  {
   "cell_type": "code",
   "execution_count": 6,
   "id": "cca16a26",
   "metadata": {},
   "outputs": [
    {
     "name": "stdout",
     "output_type": "stream",
     "text": [
      "C:\\Users\\DELL\\OneDrive\\Desktop\\Challenge3_FileManipulation\n"
     ]
    }
   ],
   "source": [
    "print(os.getcwd())"
   ]
  },
  {
   "cell_type": "code",
   "execution_count": 5,
   "id": "7f4003b6",
   "metadata": {},
   "outputs": [
    {
     "name": "stdout",
     "output_type": "stream",
     "text": [
      "Enter the path of the folder that contains all files - C:\\Users\\DELL\\OneDrive\\Desktop\\File Manipulation Algorithm\\files\n"
     ]
    }
   ],
   "source": [
    "folder_path = input(\"Enter the path of the folder that contains all files - \")"
   ]
  },
  {
   "cell_type": "markdown",
   "id": "4b143ec2",
   "metadata": {},
   "source": [
    "### Search for the Files with specific extension"
   ]
  },
  {
   "cell_type": "code",
   "execution_count": 8,
   "id": "ae712e34",
   "metadata": {},
   "outputs": [
    {
     "name": "stdout",
     "output_type": "stream",
     "text": [
      "Enter the extension for which you want to search files ( Eg txt, docx, ipynb etc ) :- \n",
      "ipynb\n"
     ]
    }
   ],
   "source": [
    "ext = input(\"Enter the extension for which you want to search files ( Eg txt, docx, ipynb etc ) :- \\n\")"
   ]
  },
  {
   "cell_type": "code",
   "execution_count": 9,
   "id": "744a293b",
   "metadata": {
    "scrolled": true
   },
   "outputs": [
    {
     "name": "stdout",
     "output_type": "stream",
     "text": [
      "list manupulaton.ipynb\n",
      "python basic.ipynb\n",
      "python string and list manupulation.ipynb\n"
     ]
    }
   ],
   "source": [
    "os.chdir(folder_path)\n",
    "for file in glob.glob(\"*.\"+ext):\n",
    "    print(file)"
   ]
  },
  {
   "cell_type": "markdown",
   "id": "3802827d",
   "metadata": {},
   "source": [
    "### Below Code sorts and seperates files with different file formats using seperate folders "
   ]
  },
  {
   "cell_type": "code",
   "execution_count": 11,
   "id": "4566f355",
   "metadata": {},
   "outputs": [
    {
     "name": "stdout",
     "output_type": "stream",
     "text": [
      "Folders created Successfully !\n"
     ]
    }
   ],
   "source": [
    "list1 = os.listdir(folder_path)\n",
    "l1=[]\n",
    "for i in list1:\n",
    "    fileName, extension = os.path.splitext(i)\n",
    "    extension = extension[1:]\n",
    "    \n",
    "    if extension == \"\":\n",
    "        continue\n",
    "        \n",
    "    else:\n",
    "        if os.path.exists( folder_path + '/' + extension ):\n",
    "            shutil.move( folder_path + '/' + i, folder_path + '/' + extension + '/' + i )\n",
    "            continue\n",
    "        else:\n",
    "            os.makedirs( folder_path + '/' + extension )\n",
    "            shutil.move( folder_path + '/' + i, folder_path + '/' + extension + '/' + i )\n",
    "        l1.append(extension)\n",
    "        \n",
    "print(\"Folders created Successfully !\")\n"
   ]
  },
  {
   "cell_type": "markdown",
   "id": "f9177c9b",
   "metadata": {},
   "source": [
    "### Displaying All files present in seperate folders having similar file formats"
   ]
  },
  {
   "cell_type": "code",
   "execution_count": 12,
   "id": "9bf26e72",
   "metadata": {},
   "outputs": [
    {
     "name": "stdout",
     "output_type": "stream",
     "text": [
      "Files inside the folder named 'csv' are :-\n",
      "\n",
      "\n",
      "addresses.csv\n",
      "continent.csv\n",
      "grades.csv\n",
      "taxables.csv\n",
      "\n",
      "\n",
      "Files inside the folder named 'mp3' are :-\n",
      "\n",
      "\n",
      "Dil Pe Zakhm.mp3\n",
      "Refreshing Music.mp3\n",
      "Tumse Pyaar Karke.mp3\n",
      "Uplifting Background Music.mp3\n",
      "\n",
      "\n",
      "Files inside the folder named 'avif' are :-\n",
      "\n",
      "\n",
      "Ferrarri.avif\n",
      "Lady.avif\n",
      "Nature.avif\n",
      "\n",
      "\n",
      "Files inside the folder named 'xlsx' are :-\n",
      "\n",
      "\n",
      "foodsales.xlsx\n",
      "workorders.xlsx\n",
      "\n",
      "\n",
      "Files inside the folder named 'jpg' are :-\n",
      "\n",
      "\n",
      "Image1.jpg\n",
      "Relax Park.jpg\n",
      "Walking path.jpg\n",
      "\n",
      "\n",
      "Files inside the folder named 'ipynb' are :-\n",
      "\n",
      "\n",
      "list manupulaton.ipynb\n",
      "python basic.ipynb\n",
      "python string and list manupulation.ipynb\n",
      "\n",
      "\n",
      "Files inside the folder named 'pdf' are :-\n",
      "\n",
      "\n",
      "LoremIpsum.pdf\n",
      "SampleFile.pdf\n",
      "\n",
      "\n"
     ]
    }
   ],
   "source": [
    "try:\n",
    "    for i in l1:\n",
    "        l2=sorted(os.listdir(folder_path + '/' + i))\n",
    "        print(\"Files inside the folder named '\"+i+\"' are :-\")\n",
    "        print(\"\\n\")\n",
    "        for j in l2:\n",
    "            print(j)\n",
    "        print(\"\\n\")\n",
    "except Exception as e:\n",
    "    print(\"Error Occured :\",e)"
   ]
  },
  {
   "cell_type": "code",
   "execution_count": null,
   "id": "4ff02311",
   "metadata": {},
   "outputs": [],
   "source": []
  }
 ],
 "metadata": {
  "kernelspec": {
   "display_name": "Python 3 (ipykernel)",
   "language": "python",
   "name": "python3"
  },
  "language_info": {
   "codemirror_mode": {
    "name": "ipython",
    "version": 3
   },
   "file_extension": ".py",
   "mimetype": "text/x-python",
   "name": "python",
   "nbconvert_exporter": "python",
   "pygments_lexer": "ipython3",
   "version": "3.10.2"
  }
 },
 "nbformat": 4,
 "nbformat_minor": 5
}
